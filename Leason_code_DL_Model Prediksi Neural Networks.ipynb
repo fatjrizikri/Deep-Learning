{
 "cells": [
  {
   "cell_type": "code",
   "execution_count": 1,
   "id": "1ba27390",
   "metadata": {},
   "outputs": [
    {
     "name": "stderr",
     "output_type": "stream",
     "text": [
      "2023-04-14 17:00:01.302532: I tensorflow/core/platform/cpu_feature_guard.cc:193] This TensorFlow binary is optimized with oneAPI Deep Neural Network Library (oneDNN) to use the following CPU instructions in performance-critical operations:  SSE4.1 SSE4.2 AVX AVX2 FMA\n",
      "To enable them in other operations, rebuild TensorFlow with the appropriate compiler flags.\n"
     ]
    }
   ],
   "source": [
    "import tensorflow as tf\n",
    "import numpy as np\n",
    "import matplotlib.pyplot as plt\n",
    "%matplotlib inline"
   ]
  },
  {
   "cell_type": "code",
   "execution_count": 3,
   "id": "7b6d4752",
   "metadata": {},
   "outputs": [
    {
     "data": {
      "image/png": "[encoded data removed]",
      "text/plain": [
       "<Figure size 640x480 with 1 Axes>"
      ]
     },
     "metadata": {},
     "output_type": "display_data"
    }
   ],
   "source": [
    "X_train = np.arange(10).reshape((10, 1)) # 10 data fitur 1 dimensi\n",
    "y_train = np.array([1.0, 1.3, 3.1, 2.0, 5.0, 6.3, 6.6, 7.4, 8.0, 9.0]) # 10 data vector target 1 dimensi\n",
    "plt.plot(X_train, y_train, 'o', markersize=10)\n",
    "plt.xlabel('x')\n",
    "plt.ylabel('y')\n",
    "plt.show()"
   ]
  },
  {
   "cell_type": "code",
   "execution_count": 4,
   "id": "463c865d",
   "metadata": {},
   "outputs": [
    {
     "name": "stderr",
     "output_type": "stream",
     "text": [
      "2023-04-14 17:01:24.426552: I tensorflow/core/platform/cpu_feature_guard.cc:193] This TensorFlow binary is optimized with oneAPI Deep Neural Network Library (oneDNN) to use the following CPU instructions in performance-critical operations:  SSE4.1 SSE4.2 AVX AVX2 FMA\n",
      "To enable them in other operations, rebuild TensorFlow with the appropriate compiler flags.\n",
      "2023-04-14 17:01:24.427175: I tensorflow/core/common_runtime/process_util.cc:146] Creating new thread pool with default inter op setting: 2. Tune using inter_op_parallelism_threads for best performance.\n"
     ]
    }
   ],
   "source": [
    "X_train_norm = (X_train - np.mean(X_train))/np.std(X_train)\n",
    "ds_train_orig = tf.data.Dataset.from_tensor_slices(\n",
    "    (tf.cast(X_train_norm, tf.float32),\n",
    "     tf.cast(y_train, tf.float32)))"
   ]
  },
  {
   "cell_type": "code",
   "execution_count": 5,
   "id": "3a26a92e",
   "metadata": {},
   "outputs": [],
   "source": [
    "class MyModel(tf.keras.Model):\n",
    "    def __init__(self):\n",
    "        super(MyModel, self).__init__()\n",
    "        self.w = tf.Variable(0.0, name='weight')\n",
    "        self.b = tf.Variable(0.0, name='bias')\n",
    "    def call(self, x):\n",
    "        \n",
    "        return self.w*x + self.b"
   ]
  },
  {
   "cell_type": "code",
   "execution_count": 6,
   "id": "1a03f047",
   "metadata": {},
   "outputs": [
    {
     "name": "stdout",
     "output_type": "stream",
     "text": [
      "Model: \"my_model\"\n",
      "_________________________________________________________________\n",
      " Layer (type)                Output Shape              Param #   \n",
      "=================================================================\n",
      "=================================================================\n",
      "Total params: 2\n",
      "Trainable params: 2\n",
      "Non-trainable params: 0\n",
      "_________________________________________________________________\n"
     ]
    }
   ],
   "source": [
    "model = MyModel()\n",
    "model.build(input_shape=(None, 1))\n",
    "model.summary()"
   ]
  },
  {
   "cell_type": "code",
   "execution_count": 7,
   "id": "6d5f954f",
   "metadata": {},
   "outputs": [
    {
     "data": {
      "text/plain": [
       "<tf.Tensor: shape=(), dtype=float32, numpy=0.25>"
      ]
     },
     "execution_count": 7,
     "metadata": {},
     "output_type": "execute_result"
    }
   ],
   "source": [
    "def loss_fn(y_true, y_pred):\n",
    "    return tf.reduce_mean(tf.square(y_true - y_pred))\n",
    "## testing the function:\n",
    "yt = tf.convert_to_tensor([1.0])\n",
    "yp = tf.convert_to_tensor([1.5])\n",
    "loss_fn(yt, yp)"
   ]
  },
  {
   "cell_type": "code",
   "execution_count": 8,
   "id": "03088e9c",
   "metadata": {},
   "outputs": [],
   "source": [
    "def train(model, inputs, outputs, learning_rate):\n",
    "    with tf.GradientTape() as tape:\n",
    "        current_loss = loss_fn(model(inputs), outputs)\n",
    "    dW, db = tape.gradient(current_loss, [model.w, model.b])\n",
    "    model.w.assign_sub(learning_rate * dW)\n",
    "    model.b.assign_sub(learning_rate * db)"
   ]
  },
  {
   "cell_type": "code",
   "execution_count": 9,
   "id": "5661f874",
   "metadata": {},
   "outputs": [],
   "source": [
    "def train(model, inputs, outputs, learning_rate):\n",
    "    with tf.GradientTape() as tape:\n",
    "        current_loss = loss_fn(model(inputs), outputs)\n",
    "    dW, db = tape.gradient(current_loss, [model.w, model.b])\n",
    "    model.w.assign_sub(learning_rate * dW)\n",
    "    model.b.assign_sub(learning_rate * db)"
   ]
  },
  {
   "cell_type": "code",
   "execution_count": 10,
   "id": "d90ba6a4",
   "metadata": {},
   "outputs": [
    {
     "name": "stdout",
     "output_type": "stream",
     "text": [
      "Epoch    0 Step  0 Loss 43.5600\n",
      "Epoch   10 Step 100 Loss 0.7530\n",
      "Epoch   20 Step 200 Loss 20.1759\n",
      "Epoch   30 Step 300 Loss 23.3976\n",
      "Epoch   40 Step 400 Loss 6.3481\n",
      "Epoch   50 Step 500 Loss 4.6356\n",
      "Epoch   60 Step 600 Loss 0.2411\n",
      "Epoch   70 Step 700 Loss 0.2036\n",
      "Epoch   80 Step 800 Loss 3.8177\n",
      "Epoch   90 Step 900 Loss 0.9416\n",
      "Epoch  100 Step 1000 Loss 0.7035\n",
      "Epoch  110 Step 1100 Loss 0.0348\n",
      "Epoch  120 Step 1200 Loss 0.5404\n",
      "Epoch  130 Step 1300 Loss 0.1170\n",
      "Epoch  140 Step 1400 Loss 0.1195\n",
      "Epoch  150 Step 1500 Loss 0.0944\n",
      "Epoch  160 Step 1600 Loss 0.4670\n",
      "Epoch  170 Step 1700 Loss 2.0695\n",
      "Epoch  180 Step 1800 Loss 0.0020\n",
      "Epoch  190 Step 1900 Loss 0.3612\n"
     ]
    }
   ],
   "source": [
    "tf.random.set_seed(1)\n",
    "num_epochs = 200\n",
    "log_steps = 100\n",
    "learning_rate = 0.001\n",
    "batch_size = 1\n",
    "steps_per_epoch = int(np.ceil(len(y_train) / batch_size))\n",
    "ds_train = ds_train_orig.shuffle(buffer_size=len(y_train))\n",
    "ds_train = ds_train.repeat(count=None)\n",
    "ds_train = ds_train.batch(1)\n",
    "Ws, bs = [], []\n",
    "for i, batch in enumerate(ds_train):\n",
    "    if i >= steps_per_epoch * num_epochs:\n",
    "        break\n",
    "    Ws.append(model.w.numpy())\n",
    "    bs.append(model.b.numpy())\n",
    "    bx, by = batch\n",
    "    loss_val = loss_fn(model(bx), by)\n",
    "    train(model, bx, by, learning_rate=learning_rate)\n",
    "    if i%log_steps==0:\n",
    "        print('Epoch {:4d} Step {:2d} Loss {:6.4f}'.format(\n",
    "            int(i/steps_per_epoch), i, loss_val))"
   ]
  },
  {
   "cell_type": "code",
   "execution_count": 11,
   "id": "a7238ed1",
   "metadata": {},
   "outputs": [
    {
     "name": "stdout",
     "output_type": "stream",
     "text": [
      "Final Parameters: 2.6576622 4.8798566\n"
     ]
    },
    {
     "data": {
      "image/png": "[encoded data removed]",
      "text/plain": [
       "<Figure size 1300x500 with 2 Axes>"
      ]
     },
     "metadata": {},
     "output_type": "display_data"
    }
   ],
   "source": [
    "print('Final Parameters:', model.w.numpy(), model.b.numpy())\n",
    "X_test = np.linspace(0, 9, num=100).reshape(-1, 1)\n",
    "X_test_norm = (X_test - np.mean(X_train)) / np.std(X_train)\n",
    "y_pred = model(tf.cast(X_test_norm, dtype=tf.float32))\n",
    "fig = plt.figure(figsize=(13, 5))\n",
    "ax = fig.add_subplot(1, 2, 1)\n",
    "plt.plot(X_train_norm, y_train, 'o', markersize=10)\n",
    "plt.plot(X_test_norm, y_pred, '--', lw=3)\n",
    "plt.legend(['Training examples', 'Linear Reg.'], fontsize=15)\n",
    "ax.set_xlabel('x', size=15)\n",
    "ax.set_ylabel('y', size=15)\n",
    "ax.tick_params(axis='both', which='major', labelsize=15)\n",
    "ax = fig.add_subplot(1, 2, 2)\n",
    "plt.plot(Ws, lw=3)\n",
    "plt.plot(bs, lw=3)\n",
    "plt.legend(['Weight w', 'Bias unit b'], fontsize=15)\n",
    "ax.set_xlabel('Iteration', size=15)\n",
    "ax.set_ylabel('Value', size=15)\n",
    "ax.tick_params(axis='both', which='major', labelsize=15)\n",
    "#plt.savefig('ch13-linreg-1.pdf')\n",
    "plt.show()"
   ]
  },
  {
   "cell_type": "code",
   "execution_count": 12,
   "id": "b94a9094",
   "metadata": {},
   "outputs": [],
   "source": [
    "tf.random.set_seed(1)\n",
    "model = MyModel()\n",
    "#model.build((None, 1))\n",
    "model.compile(optimizer='sgd',\n",
    "            loss=loss_fn,\n",
    "            metrics=['mae', 'mse'])"
   ]
  },
  {
   "cell_type": "code",
   "execution_count": 13,
   "id": "02a4232f",
   "metadata": {},
   "outputs": [
    {
     "name": "stdout",
     "output_type": "stream",
     "text": [
      "Epoch 1/200\n",
      "10/10 [==============================] - 0s 1ms/step - loss: 27.8723 - mae: 4.5654 - mse: 27.8723\n",
      "Epoch 2/200\n",
      "10/10 [==============================] - 0s 856us/step - loss: 18.6586 - mae: 3.7446 - mse: 18.6586\n",
      "Epoch 3/200\n",
      "10/10 [==============================] - 0s 1ms/step - loss: 12.5239 - mae: 3.0454 - mse: 12.5239\n",
      "Epoch 4/200\n",
      "10/10 [==============================] - 0s 1ms/step - loss: 8.4670 - mae: 2.4907 - mse: 8.4670\n",
      "Epoch 5/200\n",
      "10/10 [==============================] - 0s 1ms/step - loss: 5.7632 - mae: 2.0567 - mse: 5.7632\n",
      "Epoch 6/200\n",
      "10/10 [==============================] - 0s 1ms/step - loss: 3.9697 - mae: 1.7232 - mse: 3.9697\n",
      "Epoch 7/200\n",
      "10/10 [==============================] - 0s 895us/step - loss: 2.7766 - mae: 1.4752 - mse: 2.7766\n",
      "Epoch 8/200\n",
      "10/10 [==============================] - 0s 1ms/step - loss: 1.9861 - mae: 1.2578 - mse: 1.9861\n",
      "Epoch 9/200\n",
      "10/10 [==============================] - 0s 1ms/step - loss: 1.4572 - mae: 1.0978 - mse: 1.4572\n",
      "Epoch 10/200\n",
      "10/10 [==============================] - 0s 1ms/step - loss: 1.1055 - mae: 0.9674 - mse: 1.1055\n",
      "Epoch 11/200\n",
      "10/10 [==============================] - 0s 1ms/step - loss: 0.8719 - mae: 0.8633 - mse: 0.8719\n",
      "Epoch 12/200\n",
      "10/10 [==============================] - 0s 868us/step - loss: 0.7171 - mae: 0.7713 - mse: 0.7171\n",
      "Epoch 13/200\n",
      "10/10 [==============================] - 0s 1ms/step - loss: 0.6147 - mae: 0.7012 - mse: 0.6147\n",
      "Epoch 14/200\n",
      "10/10 [==============================] - 0s 1ms/step - loss: 0.5476 - mae: 0.6474 - mse: 0.5476\n",
      "Epoch 15/200\n",
      "10/10 [==============================] - 0s 1ms/step - loss: 0.5024 - mae: 0.5972 - mse: 0.5024\n",
      "Epoch 16/200\n",
      "10/10 [==============================] - 0s 931us/step - loss: 0.4736 - mae: 0.5529 - mse: 0.4736\n",
      "Epoch 17/200\n",
      "10/10 [==============================] - 0s 898us/step - loss: 0.4543 - mae: 0.5322 - mse: 0.4543\n",
      "Epoch 18/200\n",
      "10/10 [==============================] - 0s 1ms/step - loss: 0.4403 - mae: 0.5131 - mse: 0.4403\n",
      "Epoch 19/200\n",
      "10/10 [==============================] - 0s 1ms/step - loss: 0.4309 - mae: 0.5015 - mse: 0.4309\n",
      "Epoch 20/200\n",
      "10/10 [==============================] - 0s 968us/step - loss: 0.4254 - mae: 0.5001 - mse: 0.4254\n",
      "Epoch 21/200\n",
      "10/10 [==============================] - 0s 1ms/step - loss: 0.4213 - mae: 0.4908 - mse: 0.4213\n",
      "Epoch 22/200\n",
      "10/10 [==============================] - 0s 1ms/step - loss: 0.4189 - mae: 0.4919 - mse: 0.4189\n",
      "Epoch 23/200\n",
      "10/10 [==============================] - 0s 1ms/step - loss: 0.4172 - mae: 0.4942 - mse: 0.4172\n",
      "Epoch 24/200\n",
      "10/10 [==============================] - 0s 1ms/step - loss: 0.4158 - mae: 0.4921 - mse: 0.4158\n",
      "Epoch 25/200\n",
      "10/10 [==============================] - 0s 1ms/step - loss: 0.4151 - mae: 0.4872 - mse: 0.4151\n",
      "Epoch 26/200\n",
      "10/10 [==============================] - 0s 1ms/step - loss: 0.4149 - mae: 0.4950 - mse: 0.4149\n",
      "Epoch 27/200\n",
      "10/10 [==============================] - 0s 919us/step - loss: 0.4144 - mae: 0.4949 - mse: 0.4144\n",
      "Epoch 28/200\n",
      "10/10 [==============================] - 0s 1ms/step - loss: 0.4139 - mae: 0.4838 - mse: 0.4139\n",
      "Epoch 29/200\n",
      "10/10 [==============================] - 0s 1ms/step - loss: 0.4140 - mae: 0.4913 - mse: 0.4140\n",
      "Epoch 30/200\n",
      "10/10 [==============================] - 0s 1ms/step - loss: 0.4132 - mae: 0.4968 - mse: 0.4132\n",
      "Epoch 31/200\n",
      "10/10 [==============================] - 0s 945us/step - loss: 0.4139 - mae: 0.4894 - mse: 0.4139\n",
      "Epoch 32/200\n",
      "10/10 [==============================] - 0s 1ms/step - loss: 0.4136 - mae: 0.4894 - mse: 0.4136\n",
      "Epoch 33/200\n",
      "10/10 [==============================] - 0s 1ms/step - loss: 0.4137 - mae: 0.4928 - mse: 0.4137\n",
      "Epoch 34/200\n",
      "10/10 [==============================] - 0s 895us/step - loss: 0.4132 - mae: 0.4834 - mse: 0.4132\n",
      "Epoch 35/200\n",
      "10/10 [==============================] - 0s 912us/step - loss: 0.4137 - mae: 0.4939 - mse: 0.4137\n",
      "Epoch 36/200\n",
      "10/10 [==============================] - 0s 985us/step - loss: 0.4136 - mae: 0.4947 - mse: 0.4136\n",
      "Epoch 37/200\n",
      "10/10 [==============================] - 0s 1ms/step - loss: 0.4131 - mae: 0.4855 - mse: 0.4131\n",
      "Epoch 38/200\n",
      "10/10 [==============================] - 0s 836us/step - loss: 0.4133 - mae: 0.4940 - mse: 0.4133\n",
      "Epoch 39/200\n",
      "10/10 [==============================] - 0s 887us/step - loss: 0.4134 - mae: 0.4822 - mse: 0.4134\n",
      "Epoch 40/200\n",
      "10/10 [==============================] - 0s 944us/step - loss: 0.4137 - mae: 0.4979 - mse: 0.4137\n",
      "Epoch 41/200\n",
      "10/10 [==============================] - 0s 821us/step - loss: 0.4138 - mae: 0.4903 - mse: 0.4138\n",
      "Epoch 42/200\n",
      "10/10 [==============================] - 0s 932us/step - loss: 0.4135 - mae: 0.4932 - mse: 0.4135\n",
      "Epoch 43/200\n",
      "10/10 [==============================] - 0s 1ms/step - loss: 0.4136 - mae: 0.4886 - mse: 0.4136\n",
      "Epoch 44/200\n",
      "10/10 [==============================] - 0s 833us/step - loss: 0.4129 - mae: 0.4800 - mse: 0.4129\n",
      "Epoch 45/200\n",
      "10/10 [==============================] - 0s 881us/step - loss: 0.4140 - mae: 0.4886 - mse: 0.4140\n",
      "Epoch 46/200\n",
      "10/10 [==============================] - 0s 815us/step - loss: 0.4138 - mae: 0.4888 - mse: 0.4138\n",
      "Epoch 47/200\n",
      "10/10 [==============================] - 0s 855us/step - loss: 0.4137 - mae: 0.4879 - mse: 0.4137\n",
      "Epoch 48/200\n",
      "10/10 [==============================] - 0s 873us/step - loss: 0.4135 - mae: 0.4925 - mse: 0.4135\n",
      "Epoch 49/200\n",
      "10/10 [==============================] - 0s 831us/step - loss: 0.4136 - mae: 0.4933 - mse: 0.4136\n",
      "Epoch 50/200\n",
      "10/10 [==============================] - 0s 813us/step - loss: 0.4137 - mae: 0.4816 - mse: 0.4137\n",
      "Epoch 51/200\n",
      "10/10 [==============================] - 0s 879us/step - loss: 0.4137 - mae: 0.4901 - mse: 0.4137\n",
      "Epoch 52/200\n",
      "10/10 [==============================] - 0s 920us/step - loss: 0.4136 - mae: 0.4935 - mse: 0.4136\n",
      "Epoch 53/200\n",
      "10/10 [==============================] - 0s 943us/step - loss: 0.4133 - mae: 0.4881 - mse: 0.4133\n",
      "Epoch 54/200\n",
      "10/10 [==============================] - 0s 899us/step - loss: 0.4138 - mae: 0.4831 - mse: 0.4138\n",
      "Epoch 55/200\n",
      "10/10 [==============================] - 0s 816us/step - loss: 0.4139 - mae: 0.4845 - mse: 0.4139\n",
      "Epoch 56/200\n",
      "10/10 [==============================] - 0s 862us/step - loss: 0.4139 - mae: 0.4868 - mse: 0.4139\n",
      "Epoch 57/200\n",
      "10/10 [==============================] - 0s 849us/step - loss: 0.4139 - mae: 0.4903 - mse: 0.4139\n",
      "Epoch 58/200\n",
      "10/10 [==============================] - 0s 955us/step - loss: 0.4138 - mae: 0.4827 - mse: 0.4138\n",
      "Epoch 59/200\n",
      "10/10 [==============================] - 0s 933us/step - loss: 0.4138 - mae: 0.4849 - mse: 0.4138\n",
      "Epoch 60/200\n",
      "10/10 [==============================] - 0s 931us/step - loss: 0.4136 - mae: 0.4989 - mse: 0.4136\n",
      "Epoch 61/200\n",
      "10/10 [==============================] - 0s 990us/step - loss: 0.4138 - mae: 0.4854 - mse: 0.4138\n",
      "Epoch 62/200\n",
      "10/10 [==============================] - 0s 898us/step - loss: 0.4133 - mae: 0.4913 - mse: 0.4133\n",
      "Epoch 63/200\n",
      "10/10 [==============================] - 0s 1ms/step - loss: 0.4136 - mae: 0.4915 - mse: 0.4136\n",
      "Epoch 64/200\n",
      "10/10 [==============================] - 0s 962us/step - loss: 0.4138 - mae: 0.4882 - mse: 0.4138\n",
      "Epoch 65/200\n",
      "10/10 [==============================] - 0s 972us/step - loss: 0.4139 - mae: 0.4881 - mse: 0.4139\n",
      "Epoch 66/200\n",
      "10/10 [==============================] - 0s 952us/step - loss: 0.4135 - mae: 0.4882 - mse: 0.4135\n",
      "Epoch 67/200\n",
      "10/10 [==============================] - 0s 1ms/step - loss: 0.4140 - mae: 0.4888 - mse: 0.4140\n",
      "Epoch 68/200\n",
      "10/10 [==============================] - 0s 982us/step - loss: 0.4138 - mae: 0.4890 - mse: 0.4138\n",
      "Epoch 69/200\n",
      "10/10 [==============================] - 0s 1ms/step - loss: 0.4137 - mae: 0.4823 - mse: 0.4137\n",
      "Epoch 70/200\n",
      "10/10 [==============================] - 0s 914us/step - loss: 0.4135 - mae: 0.4800 - mse: 0.4135\n",
      "Epoch 71/200\n",
      "10/10 [==============================] - 0s 898us/step - loss: 0.4136 - mae: 0.4938 - mse: 0.4136\n",
      "Epoch 72/200\n",
      "10/10 [==============================] - 0s 930us/step - loss: 0.4135 - mae: 0.4915 - mse: 0.4135\n",
      "Epoch 73/200\n",
      "10/10 [==============================] - 0s 946us/step - loss: 0.4139 - mae: 0.4901 - mse: 0.4139\n",
      "Epoch 74/200\n",
      "10/10 [==============================] - 0s 1ms/step - loss: 0.4139 - mae: 0.4915 - mse: 0.4139\n",
      "Epoch 75/200\n",
      "10/10 [==============================] - 0s 928us/step - loss: 0.4133 - mae: 0.4894 - mse: 0.4133\n",
      "Epoch 76/200\n",
      "10/10 [==============================] - 0s 849us/step - loss: 0.4136 - mae: 0.4939 - mse: 0.4136\n",
      "Epoch 77/200\n",
      "10/10 [==============================] - 0s 875us/step - loss: 0.4139 - mae: 0.4824 - mse: 0.4139\n",
      "Epoch 78/200\n",
      "10/10 [==============================] - 0s 819us/step - loss: 0.4136 - mae: 0.4811 - mse: 0.4136\n",
      "Epoch 79/200\n",
      "10/10 [==============================] - 0s 943us/step - loss: 0.4137 - mae: 0.4854 - mse: 0.4137\n",
      "Epoch 80/200\n",
      "10/10 [==============================] - 0s 1ms/step - loss: 0.4136 - mae: 0.4842 - mse: 0.4136\n",
      "Epoch 81/200\n",
      "10/10 [==============================] - 0s 990us/step - loss: 0.4139 - mae: 0.4923 - mse: 0.4139\n",
      "Epoch 82/200\n",
      "10/10 [==============================] - 0s 861us/step - loss: 0.4137 - mae: 0.4861 - mse: 0.4137\n",
      "Epoch 83/200\n",
      "10/10 [==============================] - 0s 988us/step - loss: 0.4135 - mae: 0.4913 - mse: 0.4135\n",
      "Epoch 84/200\n",
      "10/10 [==============================] - 0s 834us/step - loss: 0.4139 - mae: 0.4861 - mse: 0.4139\n",
      "Epoch 85/200\n",
      "10/10 [==============================] - 0s 1ms/step - loss: 0.4135 - mae: 0.4814 - mse: 0.4135\n",
      "Epoch 86/200\n",
      "10/10 [==============================] - 0s 1ms/step - loss: 0.4137 - mae: 0.4928 - mse: 0.4137\n",
      "Epoch 87/200\n",
      "10/10 [==============================] - 0s 863us/step - loss: 0.4137 - mae: 0.4861 - mse: 0.4137\n",
      "Epoch 88/200\n",
      "10/10 [==============================] - 0s 945us/step - loss: 0.4138 - mae: 0.4916 - mse: 0.4138\n",
      "Epoch 89/200\n",
      "10/10 [==============================] - 0s 912us/step - loss: 0.4138 - mae: 0.4940 - mse: 0.4138\n",
      "Epoch 90/200\n",
      "10/10 [==============================] - 0s 1ms/step - loss: 0.4135 - mae: 0.4943 - mse: 0.4135\n",
      "Epoch 91/200\n",
      "10/10 [==============================] - 0s 967us/step - loss: 0.4139 - mae: 0.4923 - mse: 0.4139\n",
      "Epoch 92/200\n",
      "10/10 [==============================] - 0s 875us/step - loss: 0.4138 - mae: 0.4877 - mse: 0.4138\n",
      "Epoch 93/200\n",
      "10/10 [==============================] - 0s 944us/step - loss: 0.4137 - mae: 0.4862 - mse: 0.4137\n",
      "Epoch 94/200\n",
      "10/10 [==============================] - 0s 978us/step - loss: 0.4138 - mae: 0.4867 - mse: 0.4138\n",
      "Epoch 95/200\n",
      "10/10 [==============================] - 0s 957us/step - loss: 0.4134 - mae: 0.4790 - mse: 0.4134\n",
      "Epoch 96/200\n",
      "10/10 [==============================] - 0s 798us/step - loss: 0.4139 - mae: 0.4913 - mse: 0.4139\n",
      "Epoch 97/200\n",
      "10/10 [==============================] - 0s 973us/step - loss: 0.4133 - mae: 0.4977 - mse: 0.4133\n",
      "Epoch 98/200\n",
      "10/10 [==============================] - 0s 878us/step - loss: 0.4136 - mae: 0.4962 - mse: 0.4136\n",
      "Epoch 99/200\n",
      "10/10 [==============================] - 0s 845us/step - loss: 0.4135 - mae: 0.4962 - mse: 0.4135\n",
      "Epoch 100/200\n",
      "10/10 [==============================] - 0s 1ms/step - loss: 0.4133 - mae: 0.4837 - mse: 0.4133\n",
      "Epoch 101/200\n",
      "10/10 [==============================] - 0s 905us/step - loss: 0.4138 - mae: 0.4840 - mse: 0.4138\n",
      "Epoch 102/200\n",
      "10/10 [==============================] - 0s 940us/step - loss: 0.4136 - mae: 0.4862 - mse: 0.4136\n",
      "Epoch 103/200\n",
      "10/10 [==============================] - 0s 934us/step - loss: 0.4139 - mae: 0.4905 - mse: 0.4139\n",
      "Epoch 104/200\n",
      "10/10 [==============================] - 0s 975us/step - loss: 0.4137 - mae: 0.4974 - mse: 0.4137\n",
      "Epoch 105/200\n",
      "10/10 [==============================] - 0s 757us/step - loss: 0.4130 - mae: 0.4923 - mse: 0.4130\n",
      "Epoch 106/200\n",
      "10/10 [==============================] - 0s 878us/step - loss: 0.4138 - mae: 0.4851 - mse: 0.4138\n",
      "Epoch 107/200\n",
      "10/10 [==============================] - 0s 838us/step - loss: 0.4138 - mae: 0.4849 - mse: 0.4138\n",
      "Epoch 108/200\n",
      "10/10 [==============================] - 0s 882us/step - loss: 0.4134 - mae: 0.4929 - mse: 0.4134\n",
      "Epoch 109/200\n",
      "10/10 [==============================] - 0s 1ms/step - loss: 0.4137 - mae: 0.4944 - mse: 0.4137\n",
      "Epoch 110/200\n",
      "10/10 [==============================] - 0s 1ms/step - loss: 0.4135 - mae: 0.4793 - mse: 0.4135\n",
      "Epoch 111/200\n",
      "10/10 [==============================] - 0s 914us/step - loss: 0.4133 - mae: 0.4822 - mse: 0.4133\n",
      "Epoch 112/200\n",
      "10/10 [==============================] - 0s 906us/step - loss: 0.4130 - mae: 0.4855 - mse: 0.4130\n",
      "Epoch 113/200\n",
      "10/10 [==============================] - 0s 919us/step - loss: 0.4139 - mae: 0.4918 - mse: 0.4139\n",
      "Epoch 114/200\n",
      "10/10 [==============================] - 0s 869us/step - loss: 0.4136 - mae: 0.4870 - mse: 0.4136\n",
      "Epoch 115/200\n",
      "10/10 [==============================] - 0s 1ms/step - loss: 0.4137 - mae: 0.4855 - mse: 0.4137\n",
      "Epoch 116/200\n",
      "10/10 [==============================] - 0s 1ms/step - loss: 0.4136 - mae: 0.4838 - mse: 0.4136\n",
      "Epoch 117/200\n",
      "10/10 [==============================] - 0s 1ms/step - loss: 0.4139 - mae: 0.4898 - mse: 0.4139\n",
      "Epoch 118/200\n",
      "10/10 [==============================] - 0s 783us/step - loss: 0.4139 - mae: 0.4861 - mse: 0.4139\n",
      "Epoch 119/200\n",
      "10/10 [==============================] - 0s 983us/step - loss: 0.4140 - mae: 0.4889 - mse: 0.4140\n",
      "Epoch 120/200\n",
      "10/10 [==============================] - 0s 935us/step - loss: 0.4140 - mae: 0.4920 - mse: 0.4140\n",
      "Epoch 121/200\n",
      "10/10 [==============================] - 0s 782us/step - loss: 0.4138 - mae: 0.4944 - mse: 0.4138\n",
      "Epoch 122/200\n",
      "10/10 [==============================] - 0s 877us/step - loss: 0.4139 - mae: 0.4941 - mse: 0.4139\n",
      "Epoch 123/200\n",
      "10/10 [==============================] - 0s 982us/step - loss: 0.4132 - mae: 0.4822 - mse: 0.4132\n",
      "Epoch 124/200\n",
      "10/10 [==============================] - 0s 885us/step - loss: 0.4135 - mae: 0.4840 - mse: 0.4135\n",
      "Epoch 125/200\n",
      "10/10 [==============================] - 0s 981us/step - loss: 0.4137 - mae: 0.4908 - mse: 0.4137\n",
      "Epoch 126/200\n",
      "10/10 [==============================] - 0s 1ms/step - loss: 0.4140 - mae: 0.4927 - mse: 0.4140\n",
      "Epoch 127/200\n",
      "10/10 [==============================] - 0s 977us/step - loss: 0.4139 - mae: 0.4918 - mse: 0.4139\n",
      "Epoch 128/200\n",
      "10/10 [==============================] - 0s 933us/step - loss: 0.4139 - mae: 0.4882 - mse: 0.4139\n",
      "Epoch 129/200\n",
      "10/10 [==============================] - 0s 835us/step - loss: 0.4139 - mae: 0.4905 - mse: 0.4139\n",
      "Epoch 130/200\n",
      "10/10 [==============================] - 0s 955us/step - loss: 0.4139 - mae: 0.4882 - mse: 0.4139\n",
      "Epoch 131/200\n",
      "10/10 [==============================] - 0s 917us/step - loss: 0.4140 - mae: 0.4897 - mse: 0.4140\n",
      "Epoch 132/200\n",
      "10/10 [==============================] - 0s 803us/step - loss: 0.4138 - mae: 0.4872 - mse: 0.4138\n",
      "Epoch 133/200\n",
      "10/10 [==============================] - 0s 883us/step - loss: 0.4139 - mae: 0.4868 - mse: 0.4139\n",
      "Epoch 134/200\n",
      "10/10 [==============================] - 0s 998us/step - loss: 0.4136 - mae: 0.4867 - mse: 0.4136\n",
      "Epoch 135/200\n",
      "10/10 [==============================] - 0s 878us/step - loss: 0.4137 - mae: 0.4939 - mse: 0.4137\n",
      "Epoch 136/200\n",
      "10/10 [==============================] - 0s 924us/step - loss: 0.4136 - mae: 0.4872 - mse: 0.4136\n",
      "Epoch 137/200\n",
      "10/10 [==============================] - 0s 895us/step - loss: 0.4140 - mae: 0.4886 - mse: 0.4140\n",
      "Epoch 138/200\n",
      "10/10 [==============================] - 0s 903us/step - loss: 0.4136 - mae: 0.4973 - mse: 0.4136\n",
      "Epoch 139/200\n",
      "10/10 [==============================] - 0s 820us/step - loss: 0.4132 - mae: 0.4847 - mse: 0.4132\n",
      "Epoch 140/200\n",
      "10/10 [==============================] - 0s 874us/step - loss: 0.4139 - mae: 0.4943 - mse: 0.4139\n",
      "Epoch 141/200\n",
      "10/10 [==============================] - 0s 1ms/step - loss: 0.4139 - mae: 0.4879 - mse: 0.4139\n",
      "Epoch 142/200\n",
      "10/10 [==============================] - 0s 975us/step - loss: 0.4138 - mae: 0.4847 - mse: 0.4138\n",
      "Epoch 143/200\n",
      "10/10 [==============================] - 0s 963us/step - loss: 0.4137 - mae: 0.4857 - mse: 0.4137\n",
      "Epoch 144/200\n",
      "10/10 [==============================] - 0s 964us/step - loss: 0.4138 - mae: 0.4900 - mse: 0.4138\n",
      "Epoch 145/200\n",
      "10/10 [==============================] - 0s 947us/step - loss: 0.4132 - mae: 0.4884 - mse: 0.4132\n",
      "Epoch 146/200\n",
      "10/10 [==============================] - 0s 1ms/step - loss: 0.4139 - mae: 0.4925 - mse: 0.4139\n",
      "Epoch 147/200\n",
      "10/10 [==============================] - 0s 900us/step - loss: 0.4134 - mae: 0.4866 - mse: 0.4134\n",
      "Epoch 148/200\n"
     ]
    },
    {
     "name": "stdout",
     "output_type": "stream",
     "text": [
      "10/10 [==============================] - 0s 873us/step - loss: 0.4139 - mae: 0.4887 - mse: 0.4139\n",
      "Epoch 149/200\n",
      "10/10 [==============================] - 0s 1ms/step - loss: 0.4132 - mae: 0.4858 - mse: 0.4132\n",
      "Epoch 150/200\n",
      "10/10 [==============================] - 0s 985us/step - loss: 0.4140 - mae: 0.4936 - mse: 0.4140\n",
      "Epoch 151/200\n",
      "10/10 [==============================] - 0s 926us/step - loss: 0.4139 - mae: 0.4885 - mse: 0.4139\n",
      "Epoch 152/200\n",
      "10/10 [==============================] - 0s 881us/step - loss: 0.4139 - mae: 0.4876 - mse: 0.4139\n",
      "Epoch 153/200\n",
      "10/10 [==============================] - 0s 923us/step - loss: 0.4133 - mae: 0.4937 - mse: 0.4133\n",
      "Epoch 154/200\n",
      "10/10 [==============================] - 0s 1ms/step - loss: 0.4140 - mae: 0.4925 - mse: 0.4140\n",
      "Epoch 155/200\n",
      "10/10 [==============================] - 0s 1ms/step - loss: 0.4135 - mae: 0.4933 - mse: 0.4135\n",
      "Epoch 156/200\n",
      "10/10 [==============================] - 0s 984us/step - loss: 0.4139 - mae: 0.4902 - mse: 0.4139\n",
      "Epoch 157/200\n",
      "10/10 [==============================] - 0s 1ms/step - loss: 0.4136 - mae: 0.4907 - mse: 0.4136\n",
      "Epoch 158/200\n",
      "10/10 [==============================] - 0s 1ms/step - loss: 0.4130 - mae: 0.4830 - mse: 0.4130\n",
      "Epoch 159/200\n",
      "10/10 [==============================] - 0s 1ms/step - loss: 0.4139 - mae: 0.4870 - mse: 0.4139\n",
      "Epoch 160/200\n",
      "10/10 [==============================] - 0s 946us/step - loss: 0.4138 - mae: 0.4829 - mse: 0.4138\n",
      "Epoch 161/200\n",
      "10/10 [==============================] - 0s 915us/step - loss: 0.4132 - mae: 0.4864 - mse: 0.4132\n",
      "Epoch 162/200\n",
      "10/10 [==============================] - 0s 1ms/step - loss: 0.4140 - mae: 0.4928 - mse: 0.4140\n",
      "Epoch 163/200\n",
      "10/10 [==============================] - 0s 940us/step - loss: 0.4140 - mae: 0.4906 - mse: 0.4140\n",
      "Epoch 164/200\n",
      "10/10 [==============================] - 0s 845us/step - loss: 0.4135 - mae: 0.4831 - mse: 0.4135\n",
      "Epoch 165/200\n",
      "10/10 [==============================] - 0s 974us/step - loss: 0.4139 - mae: 0.4874 - mse: 0.4139\n",
      "Epoch 166/200\n",
      "10/10 [==============================] - 0s 1ms/step - loss: 0.4133 - mae: 0.4942 - mse: 0.4133\n",
      "Epoch 167/200\n",
      "10/10 [==============================] - 0s 873us/step - loss: 0.4140 - mae: 0.4919 - mse: 0.4140\n",
      "Epoch 168/200\n",
      "10/10 [==============================] - 0s 842us/step - loss: 0.4139 - mae: 0.4889 - mse: 0.4139\n",
      "Epoch 169/200\n",
      "10/10 [==============================] - 0s 909us/step - loss: 0.4133 - mae: 0.4986 - mse: 0.4133\n",
      "Epoch 170/200\n",
      "10/10 [==============================] - 0s 938us/step - loss: 0.4132 - mae: 0.4820 - mse: 0.4132\n",
      "Epoch 171/200\n",
      "10/10 [==============================] - 0s 1ms/step - loss: 0.4139 - mae: 0.4880 - mse: 0.4139\n",
      "Epoch 172/200\n",
      "10/10 [==============================] - 0s 1ms/step - loss: 0.4138 - mae: 0.4936 - mse: 0.4138\n",
      "Epoch 173/200\n",
      "10/10 [==============================] - 0s 984us/step - loss: 0.4138 - mae: 0.4858 - mse: 0.4138\n",
      "Epoch 174/200\n",
      "10/10 [==============================] - 0s 987us/step - loss: 0.4138 - mae: 0.4872 - mse: 0.4138\n",
      "Epoch 175/200\n",
      "10/10 [==============================] - 0s 986us/step - loss: 0.4134 - mae: 0.4953 - mse: 0.4134\n",
      "Epoch 176/200\n",
      "10/10 [==============================] - 0s 1ms/step - loss: 0.4135 - mae: 0.4950 - mse: 0.4135\n",
      "Epoch 177/200\n",
      "10/10 [==============================] - 0s 981us/step - loss: 0.4139 - mae: 0.4918 - mse: 0.4139\n",
      "Epoch 178/200\n",
      "10/10 [==============================] - 0s 891us/step - loss: 0.4137 - mae: 0.4893 - mse: 0.4137\n",
      "Epoch 179/200\n",
      "10/10 [==============================] - 0s 912us/step - loss: 0.4138 - mae: 0.4829 - mse: 0.4138\n",
      "Epoch 180/200\n",
      "10/10 [==============================] - 0s 811us/step - loss: 0.4135 - mae: 0.4956 - mse: 0.4135\n",
      "Epoch 181/200\n",
      "10/10 [==============================] - 0s 840us/step - loss: 0.4137 - mae: 0.4864 - mse: 0.4137\n",
      "Epoch 182/200\n",
      "10/10 [==============================] - 0s 858us/step - loss: 0.4137 - mae: 0.4838 - mse: 0.4137\n",
      "Epoch 183/200\n",
      "10/10 [==============================] - 0s 1ms/step - loss: 0.4138 - mae: 0.4886 - mse: 0.4138\n",
      "Epoch 184/200\n",
      "10/10 [==============================] - 0s 873us/step - loss: 0.4130 - mae: 0.4909 - mse: 0.4130\n",
      "Epoch 185/200\n",
      "10/10 [==============================] - 0s 894us/step - loss: 0.4133 - mae: 0.4766 - mse: 0.4133\n",
      "Epoch 186/200\n",
      "10/10 [==============================] - 0s 824us/step - loss: 0.4139 - mae: 0.4859 - mse: 0.4139\n",
      "Epoch 187/200\n",
      "10/10 [==============================] - 0s 926us/step - loss: 0.4138 - mae: 0.4941 - mse: 0.4138\n",
      "Epoch 188/200\n",
      "10/10 [==============================] - 0s 855us/step - loss: 0.4134 - mae: 0.4823 - mse: 0.4134\n",
      "Epoch 189/200\n",
      "10/10 [==============================] - 0s 950us/step - loss: 0.4138 - mae: 0.4837 - mse: 0.4138\n",
      "Epoch 190/200\n",
      "10/10 [==============================] - 0s 881us/step - loss: 0.4138 - mae: 0.4937 - mse: 0.4138\n",
      "Epoch 191/200\n",
      "10/10 [==============================] - 0s 961us/step - loss: 0.4138 - mae: 0.4944 - mse: 0.4138\n",
      "Epoch 192/200\n",
      "10/10 [==============================] - 0s 798us/step - loss: 0.4140 - mae: 0.4927 - mse: 0.4140\n",
      "Epoch 193/200\n",
      "10/10 [==============================] - 0s 855us/step - loss: 0.4140 - mae: 0.4893 - mse: 0.4140\n",
      "Epoch 194/200\n",
      "10/10 [==============================] - 0s 816us/step - loss: 0.4135 - mae: 0.4846 - mse: 0.4135\n",
      "Epoch 195/200\n",
      "10/10 [==============================] - 0s 753us/step - loss: 0.4138 - mae: 0.4844 - mse: 0.4138\n",
      "Epoch 196/200\n",
      "10/10 [==============================] - 0s 1ms/step - loss: 0.4139 - mae: 0.4936 - mse: 0.4139\n",
      "Epoch 197/200\n",
      "10/10 [==============================] - 0s 829us/step - loss: 0.4135 - mae: 0.4964 - mse: 0.4135\n",
      "Epoch 198/200\n",
      "10/10 [==============================] - 0s 845us/step - loss: 0.4138 - mae: 0.4873 - mse: 0.4138\n",
      "Epoch 199/200\n",
      "10/10 [==============================] - 0s 964us/step - loss: 0.4139 - mae: 0.4846 - mse: 0.4139\n",
      "Epoch 200/200\n",
      "10/10 [==============================] - 0s 788us/step - loss: 0.4138 - mae: 0.4868 - mse: 0.4138\n"
     ]
    },
    {
     "data": {
      "text/plain": [
       "<keras.callbacks.History at 0x7f6dbb585130>"
      ]
     },
     "execution_count": 13,
     "metadata": {},
     "output_type": "execute_result"
    }
   ],
   "source": [
    "model.fit(X_train_norm, y_train,\n",
    "        epochs=num_epochs, batch_size=batch_size,\n",
    "        verbose=1)"
   ]
  },
  {
   "cell_type": "code",
   "execution_count": 14,
   "id": "a532bfa1",
   "metadata": {},
   "outputs": [
    {
     "name": "stdout",
     "output_type": "stream",
     "text": [
      "2.7067394 4.9657216\n"
     ]
    },
    {
     "data": {
      "image/png": "[encoded data removed]",
      "text/plain": [
       "<Figure size 1300x500 with 2 Axes>"
      ]
     },
     "metadata": {},
     "output_type": "display_data"
    }
   ],
   "source": [
    "print(model.w.numpy(), model.b.numpy())\n",
    "X_test = np.linspace(0, 9, num=100).reshape(-1, 1)\n",
    "X_test_norm = (X_test - np.mean(X_train)) / np.std(X_train)\n",
    "y_pred = model(tf.cast(X_test_norm, dtype=tf.float32))\n",
    "fig = plt.figure(figsize=(13, 5))\n",
    "ax = fig.add_subplot(1, 2, 1)\n",
    "plt.plot(X_train_norm, y_train, 'o', markersize=10)\n",
    "plt.plot(X_test_norm, y_pred, '--', lw=3)\n",
    "plt.legend(['Training Samples', 'Linear Regression'], fontsize=15)\n",
    "ax = fig.add_subplot(1, 2, 2)\n",
    "plt.plot(Ws, lw=3)\n",
    "plt.plot(bs, lw=3)\n",
    "plt.legend(['W', 'bias'], fontsize=15)\n",
    "plt.show()"
   ]
  },
  {
   "cell_type": "code",
   "execution_count": 16,
   "id": "f16edfd7",
   "metadata": {},
   "outputs": [
    {
     "name": "stderr",
     "output_type": "stream",
     "text": [
      "/home/fatjri/Downloads/Documents/envs/tensorflow/lib/python3.9/site-packages/tqdm/auto.py:21: TqdmWarning: IProgress not found. Please update jupyter and ipywidgets. See https://ipywidgets.readthedocs.io/en/stable/user_install.html\n",
      "  from .autonotebook import tqdm as notebook_tqdm\n"
     ]
    },
    {
     "name": "stdout",
     "output_type": "stream",
     "text": [
      "\u001b[1mDownloading and preparing dataset iris (4.44 KiB) to /home/fatjri/tensorflow_datasets/iris/1.0.0...\u001b[0m\n"
     ]
    },
    {
     "name": "stderr",
     "output_type": "stream",
     "text": [
      "Dl Completed...: 0 url [00:00, ? url/s]\n",
      "Dl Completed...:   0%|          | 0/1 [00:00<?, ? url/s]\n",
      "Dl Size...: 0 MiB [00:00, ? MiB/s]\u001b[A/home/fatjri/Downloads/Documents/envs/tensorflow/lib/python3.9/site-packages/urllib3/connectionpool.py:1045: InsecureRequestWarning: Unverified HTTPS request is being made to host 'archive.ics.uci.edu'. Adding certificate verification is strongly advised. See: https://urllib3.readthedocs.io/en/1.26.x/advanced-usage.html#ssl-warnings\n",
      "  warnings.warn(\n",
      "Dl Completed...:   0%|          | 0/1 [00:03<?, ? url/s]\n",
      "Dl Completed...: 100%|██████████| 1/1 [00:03<00:00,  3.35s/ url]\n",
      "Dl Size...: 0 MiB [00:03, ? MiB/s]\u001b[A\n",
      "Dl Completed...: 100%|██████████| 1/1 [00:03<00:00,  3.36s/ url]\n"
     ]
    },
    {
     "name": "stdout",
     "output_type": "stream",
     "text": [
      "\n",
      "\n"
     ]
    },
    {
     "name": "stderr",
     "output_type": "stream",
     "text": [
      "Shuffling...:   0%|          | 0/1 [00:00<?, ? shard/s]"
     ]
    },
    {
     "name": "stdout",
     "output_type": "stream",
     "text": [
      "WARNING:tensorflow:From /home/fatjri/Downloads/Documents/envs/tensorflow/lib/python3.9/site-packages/tensorflow_datasets/core/file_format_adapter.py:209: tf_record_iterator (from tensorflow.python.lib.io.tf_record) is deprecated and will be removed in a future version.\n",
      "Instructions for updating:\n",
      "Use eager execution and: \n",
      "`tf.data.TFRecordDataset(path)`\n"
     ]
    },
    {
     "name": "stderr",
     "output_type": "stream",
     "text": [
      "WARNING:tensorflow:From /home/fatjri/Downloads/Documents/envs/tensorflow/lib/python3.9/site-packages/tensorflow_datasets/core/file_format_adapter.py:209: tf_record_iterator (from tensorflow.python.lib.io.tf_record) is deprecated and will be removed in a future version.\n",
      "Instructions for updating:\n",
      "Use eager execution and: \n",
      "`tf.data.TFRecordDataset(path)`\n",
      "\n",
      "Reading...: 0 examples [00:00, ? examples/s]\u001b[A\n",
      "                                            \u001b[A\n",
      "Writing...:   0%|          | 0/150 [00:00<?, ? examples/s]\u001b[A\n",
      "WARNING:absl:Warning: Setting shuffle_files=True because split=TRAIN and shuffle_files=None. This behavior will be deprecated on 2019-08-06, at which point shuffle_files=False will be the default for all splits.\n"
     ]
    },
    {
     "name": "stdout",
     "output_type": "stream",
     "text": [
      "\u001b[1mDataset iris downloaded and prepared to /home/fatjri/tensorflow_datasets/iris/1.0.0. Subsequent calls will reuse this data.\u001b[0m\n",
      "tfds.core.DatasetInfo(\n",
      "    name='iris',\n",
      "    version=1.0.0,\n",
      "    description='This is perhaps the best known database to be found in the pattern recognition\n",
      "literature. Fisher's paper is a classic in the field and is referenced\n",
      "frequently to this day. (See Duda & Hart, for example.) The data set contains\n",
      "3 classes of 50 instances each, where each class refers to a type of iris\n",
      "plant. One class is linearly separable from the other 2; the latter are NOT\n",
      "linearly separable from each other.\n",
      "',\n",
      "    urls=['https://archive.ics.uci.edu/ml/datasets/iris'],\n",
      "    features=FeaturesDict({\n",
      "        'features': Tensor(shape=(4,), dtype=tf.float32),\n",
      "        'label': ClassLabel(shape=(), dtype=tf.int64, num_classes=3),\n",
      "    }),\n",
      "    total_num_examples=150,\n",
      "    splits={\n",
      "        'train': 150,\n",
      "    },\n",
      "    supervised_keys=('features', 'label'),\n",
      "    citation=\"\"\"@misc{Dua:2019 ,\n",
      "    author = \"Dua, Dheeru and Graff, Casey\",\n",
      "    year = \"2017\",\n",
      "    title = \"{UCI} Machine Learning Repository\",\n",
      "    url = \"http://archive.ics.uci.edu/ml\",\n",
      "    institution = \"University of California, Irvine, School of Information and Computer Sciences\"\n",
      "    }\"\"\",\n",
      "    redistribution_info=,\n",
      ")\n",
      "\n"
     ]
    }
   ],
   "source": [
    "import tensorflow_datasets as tfds\n",
    "iris, iris_info = tfds.load('iris', with_info=True)\n",
    "print(iris_info)"
   ]
  },
  {
   "cell_type": "code",
   "execution_count": 17,
   "id": "2757b493",
   "metadata": {},
   "outputs": [
    {
     "name": "stdout",
     "output_type": "stream",
     "text": [
      "{'features': <tf.Tensor: shape=(4,), dtype=float32, numpy=array([5.5, 3.5, 1.3, 0.2], dtype=float32)>, 'label': <tf.Tensor: shape=(), dtype=int64, numpy=0>}\n"
     ]
    }
   ],
   "source": [
    "tf.random.set_seed(1)\n",
    "ds_orig = iris['train']\n",
    "ds_orig = ds_orig.shuffle(150, reshuffle_each_iteration=False)\n",
    "print(next(iter(ds_orig)))\n",
    "ds_train_orig = ds_orig.take(100)\n",
    "ds_test = ds_orig.skip(100)"
   ]
  },
  {
   "cell_type": "code",
   "execution_count": null,
   "id": "297cf194",
   "metadata": {},
   "outputs": [],
   "source": []
  }
 ],
 "metadata": {
  "kernelspec": {
   "display_name": "Python 3 (ipykernel)",
   "language": "python",
   "name": "python3"
  },
  "language_info": {
   "codemirror_mode": {
    "name": "ipython",
    "version": 3
   },
   "file_extension": ".py",
   "mimetype": "text/x-python",
   "name": "python",
   "nbconvert_exporter": "python",
   "pygments_lexer": "ipython3",
   "version": "3.9.16"
  }
 },
 "nbformat": 4,
 "nbformat_minor": 5
}
