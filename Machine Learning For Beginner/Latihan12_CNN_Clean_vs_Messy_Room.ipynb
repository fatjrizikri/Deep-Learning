{
  "nbformat": 4,
  "nbformat_minor": 0,
  "metadata": {
    "colab": {
      "provenance": []
    },
    "kernelspec": {
      "name": "python3",
      "display_name": "Python 3"
    },
    "accelerator": "GPU"
  },
  "cells": [
    {
      "cell_type": "code",
      "metadata": {
        "id": "AATzcBWpGuyG"
      },
      "source": [
        "import tensorflow as tf"
      ],
      "execution_count": 1,
      "outputs": []
    },
    {
      "cell_type": "code",
      "metadata": {
        "id": "DRSrhuatHGi-",
        "colab": {
          "base_uri": "https://localhost:8080/"
        },
        "outputId": "cb2ec6d5-6138-441c-8007-4523eb113d7c"
      },
      "source": [
        "!wget --no-check-certificate \\\n",
        "  https://github.com/dicodingacademy/assets/raw/main/ml_pemula_academy/messy-vs-clean-room.zip \\\n",
        "  -O /tmp/messy_vs_clean_room.zip"
      ],
      "execution_count": 2,
      "outputs": [
        {
          "output_type": "stream",
          "name": "stdout",
          "text": [
            "--2024-05-11 04:22:26--  https://github.com/dicodingacademy/assets/raw/main/ml_pemula_academy/messy-vs-clean-room.zip\n",
            "Resolving github.com (github.com)... 140.82.116.3\n",
            "Connecting to github.com (github.com)|140.82.116.3|:443... connected.\n",
            "HTTP request sent, awaiting response... 302 Found\n",
            "Location: https://raw.githubusercontent.com/dicodingacademy/assets/main/ml_pemula_academy/messy-vs-clean-room.zip [following]\n",
            "--2024-05-11 04:22:26--  https://raw.githubusercontent.com/dicodingacademy/assets/main/ml_pemula_academy/messy-vs-clean-room.zip\n",
            "Resolving raw.githubusercontent.com (raw.githubusercontent.com)... 185.199.109.133, 185.199.110.133, 185.199.111.133, ...\n",
            "Connecting to raw.githubusercontent.com (raw.githubusercontent.com)|185.199.109.133|:443... connected.\n",
            "HTTP request sent, awaiting response... 200 OK\n",
            "Length: 70392746 (67M) [application/zip]\n",
            "Saving to: ‘/tmp/messy_vs_clean_room.zip’\n",
            "\n",
            "/tmp/messy_vs_clean 100%[===================>]  67.13M   263MB/s    in 0.3s    \n",
            "\n",
            "2024-05-11 04:22:26 (263 MB/s) - ‘/tmp/messy_vs_clean_room.zip’ saved [70392746/70392746]\n",
            "\n"
          ]
        }
      ]
    },
    {
      "cell_type": "code",
      "metadata": {
        "id": "RTBu2oJfHIbH"
      },
      "source": [
        "# melakukan ekstraksi pada file zip\n",
        "import zipfile,os\n",
        "local_zip = '/tmp/messy_vs_clean_room.zip'\n",
        "zip_ref = zipfile.ZipFile(local_zip, 'r')\n",
        "zip_ref.extractall('/tmp')\n",
        "zip_ref.close()\n",
        "\n",
        "base_dir = '/tmp/images'\n",
        "train_dir = os.path.join(base_dir, 'train')\n",
        "validation_dir = os.path.join(base_dir, 'val')"
      ],
      "execution_count": 3,
      "outputs": []
    },
    {
      "cell_type": "code",
      "metadata": {
        "id": "7XudL3NRHKLl",
        "colab": {
          "base_uri": "https://localhost:8080/"
        },
        "outputId": "7c833c3d-c31c-4ae0-ace5-6532e5178dda"
      },
      "source": [
        "os.listdir('/tmp/images/train')"
      ],
      "execution_count": 4,
      "outputs": [
        {
          "output_type": "execute_result",
          "data": {
            "text/plain": [
              "['clean', 'messy']"
            ]
          },
          "metadata": {},
          "execution_count": 4
        }
      ]
    },
    {
      "cell_type": "code",
      "metadata": {
        "id": "dKIS8oM6HMwv",
        "colab": {
          "base_uri": "https://localhost:8080/"
        },
        "outputId": "4f278d5d-781e-42a3-fa3f-de372b194f93"
      },
      "source": [
        "os.listdir('/tmp/images/val')"
      ],
      "execution_count": 5,
      "outputs": [
        {
          "output_type": "execute_result",
          "data": {
            "text/plain": [
              "['clean', 'messy']"
            ]
          },
          "metadata": {},
          "execution_count": 5
        }
      ]
    },
    {
      "cell_type": "code",
      "metadata": {
        "id": "CIbS5WB-HOhC"
      },
      "source": [
        "# membuat direktori ruangan rapi pada direktori data training\n",
        "#train_clean_dir = os.path.join(train_dir, 'clean')\n",
        "\n",
        "# membuat direktori ruangan berantakan pada direktori data training\n",
        "#train_messy_dir = os.path.join(train_dir, 'messy')\n",
        "\n",
        "# membuat direktori ruangan rapi pada direktori data validasi\n",
        "#validation_clean_dir = os.path.join(validation_dir, 'clean')\n",
        "\n",
        "# membuat direktori ruangan berantakan pada direktori data validasi\n",
        "#validation_messy_dir = os.path.join(validation_dir, 'messy')"
      ],
      "execution_count": 6,
      "outputs": []
    },
    {
      "cell_type": "code",
      "metadata": {
        "id": "6-lp90PCHQRZ"
      },
      "source": [
        "from tensorflow.keras.preprocessing.image import ImageDataGenerator\n",
        "train_datagen = ImageDataGenerator(\n",
        "                    rescale=1./255,\n",
        "                    rotation_range=20,\n",
        "                    horizontal_flip=True,\n",
        "                    shear_range = 0.2,\n",
        "                    fill_mode = 'nearest')\n",
        "\n",
        "validation_datagen = ImageDataGenerator(\n",
        "                    rescale=1./255)"
      ],
      "execution_count": 7,
      "outputs": []
    },
    {
      "cell_type": "code",
      "metadata": {
        "id": "5jZFBH10HSI_",
        "colab": {
          "base_uri": "https://localhost:8080/"
        },
        "outputId": "22c1f8ef-2d05-4173-9240-c7f762d01f91"
      },
      "source": [
        "train_generator = train_datagen.flow_from_directory(\n",
        "        train_dir,  # direktori data latih\n",
        "        target_size=(150, 150),  # mengubah resolusi seluruh gambar menjadi 150x150 piksel\n",
        "        batch_size=4,\n",
        "        # karena ini merupakan masalah klasifikasi 2 kelas maka menggunakan class_mode = 'binary'\n",
        "        class_mode='binary')\n",
        "\n",
        "validation_generator = validation_datagen.flow_from_directory(\n",
        "        validation_dir, # direktori data validasi\n",
        "        target_size=(150, 150), # mengubah resolusi seluruh gambar menjadi 150x150 piksel\n",
        "        batch_size=4,\n",
        "        # karena ini merupakan masalah klasifikasi 2 kelas maka menggunakan class_mode = 'binary'\n",
        "        class_mode='binary')"
      ],
      "execution_count": 8,
      "outputs": [
        {
          "output_type": "stream",
          "name": "stdout",
          "text": [
            "Found 192 images belonging to 2 classes.\n",
            "Found 20 images belonging to 2 classes.\n"
          ]
        }
      ]
    },
    {
      "cell_type": "code",
      "metadata": {
        "id": "tJ_KwTQJHT-U"
      },
      "source": [
        "model = tf.keras.models.Sequential([\n",
        "    tf.keras.layers.Conv2D(32, (3,3), activation='relu', input_shape=(150, 150, 3)),\n",
        "    tf.keras.layers.MaxPooling2D(2, 2),\n",
        "    tf.keras.layers.Conv2D(64, (3,3), activation='relu'),\n",
        "    tf.keras.layers.MaxPooling2D(2,2),\n",
        "    tf.keras.layers.Conv2D(128, (3,3), activation='relu'),\n",
        "    tf.keras.layers.MaxPooling2D(2,2),\n",
        "    tf.keras.layers.Conv2D(512, (3,3), activation='relu'),\n",
        "    tf.keras.layers.MaxPooling2D(2,2),\n",
        "    tf.keras.layers.Flatten(),\n",
        "    tf.keras.layers.Dense(512, activation='relu'),\n",
        "    tf.keras.layers.Dense(1, activation='sigmoid')\n",
        "])"
      ],
      "execution_count": 9,
      "outputs": []
    },
    {
      "cell_type": "code",
      "metadata": {
        "colab": {
          "base_uri": "https://localhost:8080/"
        },
        "id": "sgB1dDJ1KypF",
        "outputId": "2a9b444d-5682-439a-c2c8-3af175b15340"
      },
      "source": [
        "model.summary()"
      ],
      "execution_count": 10,
      "outputs": [
        {
          "output_type": "stream",
          "name": "stdout",
          "text": [
            "Model: \"sequential\"\n",
            "_________________________________________________________________\n",
            " Layer (type)                Output Shape              Param #   \n",
            "=================================================================\n",
            " conv2d (Conv2D)             (None, 148, 148, 32)      896       \n",
            "                                                                 \n",
            " max_pooling2d (MaxPooling2  (None, 74, 74, 32)        0         \n",
            " D)                                                              \n",
            "                                                                 \n",
            " conv2d_1 (Conv2D)           (None, 72, 72, 64)        18496     \n",
            "                                                                 \n",
            " max_pooling2d_1 (MaxPoolin  (None, 36, 36, 64)        0         \n",
            " g2D)                                                            \n",
            "                                                                 \n",
            " conv2d_2 (Conv2D)           (None, 34, 34, 128)       73856     \n",
            "                                                                 \n",
            " max_pooling2d_2 (MaxPoolin  (None, 17, 17, 128)       0         \n",
            " g2D)                                                            \n",
            "                                                                 \n",
            " conv2d_3 (Conv2D)           (None, 15, 15, 512)       590336    \n",
            "                                                                 \n",
            " max_pooling2d_3 (MaxPoolin  (None, 7, 7, 512)         0         \n",
            " g2D)                                                            \n",
            "                                                                 \n",
            " flatten (Flatten)           (None, 25088)             0         \n",
            "                                                                 \n",
            " dense (Dense)               (None, 512)               12845568  \n",
            "                                                                 \n",
            " dense_1 (Dense)             (None, 1)                 513       \n",
            "                                                                 \n",
            "=================================================================\n",
            "Total params: 13529665 (51.61 MB)\n",
            "Trainable params: 13529665 (51.61 MB)\n",
            "Non-trainable params: 0 (0.00 Byte)\n",
            "_________________________________________________________________\n"
          ]
        }
      ]
    },
    {
      "cell_type": "code",
      "metadata": {
        "id": "mbvLD0cVHXJ6"
      },
      "source": [
        "model.compile(loss='binary_crossentropy',\n",
        "              optimizer=tf.optimizers.Adam(),\n",
        "              metrics=['accuracy'])"
      ],
      "execution_count": 11,
      "outputs": []
    },
    {
      "cell_type": "code",
      "metadata": {
        "id": "VVmUsHpzHX3w",
        "colab": {
          "base_uri": "https://localhost:8080/"
        },
        "outputId": "fceebede-a7d3-4441-b2a6-609ee4df8e17"
      },
      "source": [
        "history = model.fit(\n",
        "      train_generator,\n",
        "      steps_per_epoch=25,  # berapa batch yang akan dieksekusi pada setiap epoch\n",
        "      epochs=25,\n",
        "      validation_data=validation_generator, # menampilkan akurasi pengujian data validasi\n",
        "      validation_steps=5,  # berapa batch yang akan dieksekusi pada setiap epoch\n",
        "      verbose=2)"
      ],
      "execution_count": 12,
      "outputs": [
        {
          "output_type": "stream",
          "name": "stdout",
          "text": [
            "Epoch 1/25\n",
            "25/25 - 12s - loss: 0.7793 - accuracy: 0.4300 - val_loss: 0.6930 - val_accuracy: 0.5000 - 12s/epoch - 488ms/step\n",
            "Epoch 2/25\n",
            "25/25 - 1s - loss: 0.7196 - accuracy: 0.5300 - val_loss: 0.6848 - val_accuracy: 0.5000 - 982ms/epoch - 39ms/step\n",
            "Epoch 3/25\n",
            "25/25 - 1s - loss: 0.6981 - accuracy: 0.4400 - val_loss: 0.6726 - val_accuracy: 0.5000 - 979ms/epoch - 39ms/step\n",
            "Epoch 4/25\n",
            "25/25 - 1s - loss: 0.6954 - accuracy: 0.4400 - val_loss: 0.6931 - val_accuracy: 0.5000 - 967ms/epoch - 39ms/step\n",
            "Epoch 5/25\n",
            "25/25 - 1s - loss: 0.6935 - accuracy: 0.4400 - val_loss: 0.6931 - val_accuracy: 0.5000 - 993ms/epoch - 40ms/step\n",
            "Epoch 6/25\n",
            "25/25 - 1s - loss: 0.6940 - accuracy: 0.4400 - val_loss: 0.6932 - val_accuracy: 0.5000 - 952ms/epoch - 38ms/step\n",
            "Epoch 7/25\n",
            "25/25 - 1s - loss: 0.6936 - accuracy: 0.4400 - val_loss: 0.6931 - val_accuracy: 0.5000 - 1s/epoch - 43ms/step\n",
            "Epoch 8/25\n",
            "25/25 - 2s - loss: 0.6932 - accuracy: 0.5400 - val_loss: 0.6930 - val_accuracy: 0.5000 - 2s/epoch - 67ms/step\n",
            "Epoch 9/25\n",
            "25/25 - 1s - loss: 0.6934 - accuracy: 0.4600 - val_loss: 0.6928 - val_accuracy: 0.8000 - 981ms/epoch - 39ms/step\n",
            "Epoch 10/25\n",
            "25/25 - 1s - loss: 0.6931 - accuracy: 0.5100 - val_loss: 0.6913 - val_accuracy: 0.6500 - 1s/epoch - 40ms/step\n",
            "Epoch 11/25\n",
            "25/25 - 1s - loss: 0.7230 - accuracy: 0.6200 - val_loss: 0.6982 - val_accuracy: 0.5000 - 990ms/epoch - 40ms/step\n",
            "Epoch 12/25\n",
            "25/25 - 1s - loss: 0.7037 - accuracy: 0.5300 - val_loss: 0.6884 - val_accuracy: 0.7000 - 971ms/epoch - 39ms/step\n",
            "Epoch 13/25\n",
            "25/25 - 1s - loss: 0.7121 - accuracy: 0.5600 - val_loss: 0.6930 - val_accuracy: 0.5000 - 1s/epoch - 40ms/step\n",
            "Epoch 14/25\n",
            "25/25 - 1s - loss: 0.6949 - accuracy: 0.4200 - val_loss: 0.6931 - val_accuracy: 0.5000 - 972ms/epoch - 39ms/step\n",
            "Epoch 15/25\n",
            "25/25 - 1s - loss: 0.6927 - accuracy: 0.5600 - val_loss: 0.6923 - val_accuracy: 0.5000 - 972ms/epoch - 39ms/step\n",
            "Epoch 16/25\n",
            "25/25 - 1s - loss: 0.6949 - accuracy: 0.3700 - val_loss: 0.6931 - val_accuracy: 0.5000 - 971ms/epoch - 39ms/step\n",
            "Epoch 17/25\n",
            "25/25 - 1s - loss: 0.6929 - accuracy: 0.5300 - val_loss: 0.6926 - val_accuracy: 0.5000 - 1s/epoch - 52ms/step\n",
            "Epoch 18/25\n",
            "25/25 - 2s - loss: 0.7050 - accuracy: 0.5100 - val_loss: 0.6920 - val_accuracy: 0.5000 - 2s/epoch - 70ms/step\n",
            "Epoch 19/25\n",
            "25/25 - 1s - loss: 0.6927 - accuracy: 0.5200 - val_loss: 0.6914 - val_accuracy: 0.5000 - 1s/epoch - 41ms/step\n",
            "Epoch 20/25\n",
            "25/25 - 1s - loss: 0.6939 - accuracy: 0.5200 - val_loss: 0.6927 - val_accuracy: 0.5000 - 967ms/epoch - 39ms/step\n",
            "Epoch 21/25\n",
            "25/25 - 1s - loss: 0.7135 - accuracy: 0.5000 - val_loss: 0.6937 - val_accuracy: 0.5000 - 982ms/epoch - 39ms/step\n",
            "Epoch 22/25\n",
            "25/25 - 1s - loss: 0.6932 - accuracy: 0.5200 - val_loss: 0.6961 - val_accuracy: 0.5000 - 975ms/epoch - 39ms/step\n",
            "Epoch 23/25\n",
            "25/25 - 1s - loss: 0.6984 - accuracy: 0.4800 - val_loss: 0.6932 - val_accuracy: 0.5000 - 958ms/epoch - 38ms/step\n",
            "Epoch 24/25\n",
            "25/25 - 1s - loss: 0.6938 - accuracy: 0.4500 - val_loss: 0.6931 - val_accuracy: 0.5000 - 999ms/epoch - 40ms/step\n",
            "Epoch 25/25\n",
            "25/25 - 1s - loss: 0.6930 - accuracy: 0.5100 - val_loss: 0.6928 - val_accuracy: 0.5000 - 987ms/epoch - 39ms/step\n"
          ]
        }
      ]
    },
    {
      "cell_type": "code",
      "metadata": {
        "id": "GQOoO8GTHbOR",
        "colab": {
          "base_uri": "https://localhost:8080/",
          "height": 38
        },
        "outputId": "951f04cd-5d6f-41f2-fe0b-b83b42095a22"
      },
      "source": [
        "import numpy as np\n",
        "from google.colab import files\n",
        "from tensorflow.keras.preprocessing import image\n",
        "import matplotlib.pyplot as plt\n",
        "import matplotlib.image as mpimg\n",
        "import matplotlib.pyplot as plt\n",
        "import matplotlib.image as mpimg\n",
        "%matplotlib inline\n",
        "\n",
        "uploaded = files.upload()\n",
        "\n",
        "for fn in uploaded.keys():\n",
        "\n",
        "  # predicting images\n",
        "  path = fn\n",
        "  img = image.load_img(path, target_size=(150,150))\n",
        "\n",
        "  imgplot = plt.imshow(img)\n",
        "  x = image.img_to_array(img)\n",
        "  x = np.expand_dims(x, axis=0)\n",
        "  images = np.vstack([x])\n",
        "\n",
        "  classes = model.predict(images, batch_size=10)\n",
        "  print(fn)\n",
        "  if classes==1:\n",
        "   print('messy')\n",
        "  else:\n",
        "   print('clean')"
      ],
      "execution_count": null,
      "outputs": [
        {
          "output_type": "display_data",
          "data": {
            "text/plain": [
              "<IPython.core.display.HTML object>"
            ],
            "text/html": [
              "\n",
              "     <input type=\"file\" id=\"files-f123bef8-27da-4370-98fb-3de1ffa11eeb\" name=\"files[]\" multiple disabled\n",
              "        style=\"border:none\" />\n",
              "     <output id=\"result-f123bef8-27da-4370-98fb-3de1ffa11eeb\">\n",
              "      Upload widget is only available when the cell has been executed in the\n",
              "      current browser session. Please rerun this cell to enable.\n",
              "      </output>\n",
              "      <script>// Copyright 2017 Google LLC\n",
              "//\n",
              "// Licensed under the Apache License, Version 2.0 (the \"License\");\n",
              "// you may not use this file except in compliance with the License.\n",
              "// You may obtain a copy of the License at\n",
              "//\n",
              "//      http://www.apache.org/licenses/LICENSE-2.0\n",
              "//\n",
              "// Unless required by applicable law or agreed to in writing, software\n",
              "// distributed under the License is distributed on an \"AS IS\" BASIS,\n",
              "// WITHOUT WARRANTIES OR CONDITIONS OF ANY KIND, either express or implied.\n",
              "// See the License for the specific language governing permissions and\n",
              "// limitations under the License.\n",
              "\n",
              "/**\n",
              " * @fileoverview Helpers for google.colab Python module.\n",
              " */\n",
              "(function(scope) {\n",
              "function span(text, styleAttributes = {}) {\n",
              "  const element = document.createElement('span');\n",
              "  element.textContent = text;\n",
              "  for (const key of Object.keys(styleAttributes)) {\n",
              "    element.style[key] = styleAttributes[key];\n",
              "  }\n",
              "  return element;\n",
              "}\n",
              "\n",
              "// Max number of bytes which will be uploaded at a time.\n",
              "const MAX_PAYLOAD_SIZE = 100 * 1024;\n",
              "\n",
              "function _uploadFiles(inputId, outputId) {\n",
              "  const steps = uploadFilesStep(inputId, outputId);\n",
              "  const outputElement = document.getElementById(outputId);\n",
              "  // Cache steps on the outputElement to make it available for the next call\n",
              "  // to uploadFilesContinue from Python.\n",
              "  outputElement.steps = steps;\n",
              "\n",
              "  return _uploadFilesContinue(outputId);\n",
              "}\n",
              "\n",
              "// This is roughly an async generator (not supported in the browser yet),\n",
              "// where there are multiple asynchronous steps and the Python side is going\n",
              "// to poll for completion of each step.\n",
              "// This uses a Promise to block the python side on completion of each step,\n",
              "// then passes the result of the previous step as the input to the next step.\n",
              "function _uploadFilesContinue(outputId) {\n",
              "  const outputElement = document.getElementById(outputId);\n",
              "  const steps = outputElement.steps;\n",
              "\n",
              "  const next = steps.next(outputElement.lastPromiseValue);\n",
              "  return Promise.resolve(next.value.promise).then((value) => {\n",
              "    // Cache the last promise value to make it available to the next\n",
              "    // step of the generator.\n",
              "    outputElement.lastPromiseValue = value;\n",
              "    return next.value.response;\n",
              "  });\n",
              "}\n",
              "\n",
              "/**\n",
              " * Generator function which is called between each async step of the upload\n",
              " * process.\n",
              " * @param {string} inputId Element ID of the input file picker element.\n",
              " * @param {string} outputId Element ID of the output display.\n",
              " * @return {!Iterable<!Object>} Iterable of next steps.\n",
              " */\n",
              "function* uploadFilesStep(inputId, outputId) {\n",
              "  const inputElement = document.getElementById(inputId);\n",
              "  inputElement.disabled = false;\n",
              "\n",
              "  const outputElement = document.getElementById(outputId);\n",
              "  outputElement.innerHTML = '';\n",
              "\n",
              "  const pickedPromise = new Promise((resolve) => {\n",
              "    inputElement.addEventListener('change', (e) => {\n",
              "      resolve(e.target.files);\n",
              "    });\n",
              "  });\n",
              "\n",
              "  const cancel = document.createElement('button');\n",
              "  inputElement.parentElement.appendChild(cancel);\n",
              "  cancel.textContent = 'Cancel upload';\n",
              "  const cancelPromise = new Promise((resolve) => {\n",
              "    cancel.onclick = () => {\n",
              "      resolve(null);\n",
              "    };\n",
              "  });\n",
              "\n",
              "  // Wait for the user to pick the files.\n",
              "  const files = yield {\n",
              "    promise: Promise.race([pickedPromise, cancelPromise]),\n",
              "    response: {\n",
              "      action: 'starting',\n",
              "    }\n",
              "  };\n",
              "\n",
              "  cancel.remove();\n",
              "\n",
              "  // Disable the input element since further picks are not allowed.\n",
              "  inputElement.disabled = true;\n",
              "\n",
              "  if (!files) {\n",
              "    return {\n",
              "      response: {\n",
              "        action: 'complete',\n",
              "      }\n",
              "    };\n",
              "  }\n",
              "\n",
              "  for (const file of files) {\n",
              "    const li = document.createElement('li');\n",
              "    li.append(span(file.name, {fontWeight: 'bold'}));\n",
              "    li.append(span(\n",
              "        `(${file.type || 'n/a'}) - ${file.size} bytes, ` +\n",
              "        `last modified: ${\n",
              "            file.lastModifiedDate ? file.lastModifiedDate.toLocaleDateString() :\n",
              "                                    'n/a'} - `));\n",
              "    const percent = span('0% done');\n",
              "    li.appendChild(percent);\n",
              "\n",
              "    outputElement.appendChild(li);\n",
              "\n",
              "    const fileDataPromise = new Promise((resolve) => {\n",
              "      const reader = new FileReader();\n",
              "      reader.onload = (e) => {\n",
              "        resolve(e.target.result);\n",
              "      };\n",
              "      reader.readAsArrayBuffer(file);\n",
              "    });\n",
              "    // Wait for the data to be ready.\n",
              "    let fileData = yield {\n",
              "      promise: fileDataPromise,\n",
              "      response: {\n",
              "        action: 'continue',\n",
              "      }\n",
              "    };\n",
              "\n",
              "    // Use a chunked sending to avoid message size limits. See b/62115660.\n",
              "    let position = 0;\n",
              "    do {\n",
              "      const length = Math.min(fileData.byteLength - position, MAX_PAYLOAD_SIZE);\n",
              "      const chunk = new Uint8Array(fileData, position, length);\n",
              "      position += length;\n",
              "\n",
              "      const base64 = btoa(String.fromCharCode.apply(null, chunk));\n",
              "      yield {\n",
              "        response: {\n",
              "          action: 'append',\n",
              "          file: file.name,\n",
              "          data: base64,\n",
              "        },\n",
              "      };\n",
              "\n",
              "      let percentDone = fileData.byteLength === 0 ?\n",
              "          100 :\n",
              "          Math.round((position / fileData.byteLength) * 100);\n",
              "      percent.textContent = `${percentDone}% done`;\n",
              "\n",
              "    } while (position < fileData.byteLength);\n",
              "  }\n",
              "\n",
              "  // All done.\n",
              "  yield {\n",
              "    response: {\n",
              "      action: 'complete',\n",
              "    }\n",
              "  };\n",
              "}\n",
              "\n",
              "scope.google = scope.google || {};\n",
              "scope.google.colab = scope.google.colab || {};\n",
              "scope.google.colab._files = {\n",
              "  _uploadFiles,\n",
              "  _uploadFilesContinue,\n",
              "};\n",
              "})(self);\n",
              "</script> "
            ]
          },
          "metadata": {}
        }
      ]
    },
    {
      "cell_type": "code",
      "metadata": {
        "id": "BlFz4gT1aQfM"
      },
      "source": [
        "classes"
      ],
      "execution_count": null,
      "outputs": []
    },
    {
      "cell_type": "code",
      "source": [
        "print(train_generator.class_indices)"
      ],
      "metadata": {
        "id": "qLftS0l9TVbR"
      },
      "execution_count": null,
      "outputs": []
    },
    {
      "cell_type": "code",
      "source": [],
      "metadata": {
        "id": "qONQc7j15oZi"
      },
      "execution_count": null,
      "outputs": []
    }
  ]
}